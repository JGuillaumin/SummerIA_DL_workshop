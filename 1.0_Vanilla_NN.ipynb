{
 "cells": [
  {
   "cell_type": "code",
   "execution_count": 1,
   "metadata": {},
   "outputs": [
    {
     "name": "stderr",
     "output_type": "stream",
     "text": [
      "Using TensorFlow backend.\n"
     ]
    },
    {
     "name": "stdout",
     "output_type": "stream",
     "text": [
      "Keras : 2.0.6\n"
     ]
    }
   ],
   "source": [
    "import numpy as np\n",
    "import keras\n",
    "import utils\n",
    "\n",
    "import matplotlib.pyplot as plt\n",
    "\n",
    "print(\"Keras : {}\".format(keras.__version__))\n",
    "%matplotlib inline "
   ]
  },
  {
   "cell_type": "markdown",
   "metadata": {},
   "source": [
    "## Caisse à outils"
   ]
  },
  {
   "cell_type": "markdown",
   "metadata": {},
   "source": [
    "```python\n",
    "#charger le dataset mnist\n",
    "utils.load_mnist\n",
    "\n",
    "#one-hot encoding des labels\n",
    "keras.utils.np_utils.to_categorical\n",
    "\n",
    "#créer un modèle avec Keras\n",
    "keras.models.Sequential\n",
    "\n",
    "#ajouter des couches dedans \n",
    "keras.layers.InputLayer\n",
    "keras.layers.Dense\n",
    "keras.layers.Activation\n",
    "\n",
    "#entrainer le modele par descente du gradient\n",
    "keras.optimizers.SGD\n",
    "```"
   ]
  },
  {
   "cell_type": "markdown",
   "metadata": {},
   "source": [
    "## Importer les données\n",
    "\n",
    "- télécharge et décompresse le dataset MNIST\n",
    "- le dataset est déjà découpé en 'train+test'"
   ]
  },
  {
   "cell_type": "code",
   "execution_count": 3,
   "metadata": {
    "collapsed": true
   },
   "outputs": [],
   "source": [
    "(x_train, y_train), (x_test, y_test) = utils.load_mnist(path=\"mnist/\")"
   ]
  },
  {
   "cell_type": "markdown",
   "metadata": {},
   "source": [
    "## Pré-traitement des images\n",
    "\n",
    "- conversion en `float` (réel)\n",
    "- obtenir des valeurs entre `[0.0 , 1.0]` \n",
    "    - division par `255.`"
   ]
  },
  {
   "cell_type": "code",
   "execution_count": 4,
   "metadata": {
    "collapsed": true
   },
   "outputs": [],
   "source": [
    "x_train = x_train.astype('float32')\n",
    "x_test = x_test.astype('float32')"
   ]
  },
  {
   "cell_type": "code",
   "execution_count": 5,
   "metadata": {
    "collapsed": true
   },
   "outputs": [],
   "source": [
    "x_train = x_train/255.\n",
    "x_test = x_test/255."
   ]
  },
  {
   "cell_type": "code",
   "execution_count": 7,
   "metadata": {
    "collapsed": true
   },
   "outputs": [],
   "source": [
    "# x_train.shape : [60000, 28, 28]\n",
    "# ici conversion de chaque image en vecteur de taille 784=28*28\n",
    "# opération dite de `flatten()`\n",
    "x_train = x_train.reshape([-1, 28*28])\n",
    "x_test = x_test.reshape([-1, 28*28])"
   ]
  },
  {
   "cell_type": "code",
   "execution_count": 8,
   "metadata": {},
   "outputs": [
    {
     "name": "stdout",
     "output_type": "stream",
     "text": [
      "(60000, 784)\n",
      "float32\n"
     ]
    }
   ],
   "source": [
    "print(x_train.shape)\n",
    "print(x_test.dtype)"
   ]
  },
  {
   "cell_type": "markdown",
   "metadata": {},
   "source": [
    "## \"One-hot encoding\" : préparation des labels"
   ]
  },
  {
   "cell_type": "markdown",
   "metadata": {},
   "source": [
    "Il faut convertir les labels en vecteurs, par 'one-hot encoding'.\n",
    "\n",
    "On sait qu'il y a 10 classes. \n",
    "\n",
    "Donc un exemple labelisé par `y_train[i]=5` sera remplacé par `y_train_enc[i]=[0,0,0,0,0,1,0,0,0,0]`\n",
    "\n",
    "Keras dispose d'une fonction pour faire ça rapidement. Elle détecte même le nombre de classe (mais on peut quand même indiqué cette information nous-même)."
   ]
  },
  {
   "cell_type": "code",
   "execution_count": 9,
   "metadata": {
    "collapsed": true
   },
   "outputs": [],
   "source": [
    "from keras.utils.np_utils import to_categorical\n",
    "y_train_enc = to_categorical(y_train, num_classes=10)\n",
    "y_test_enc = to_categorical(y_test, num_classes=10)"
   ]
  },
  {
   "cell_type": "code",
   "execution_count": 11,
   "metadata": {},
   "outputs": [
    {
     "name": "stdout",
     "output_type": "stream",
     "text": [
      "label : 5\n",
      "label encodé : [ 0.  0.  0.  0.  0.  1.  0.  0.  0.  0.]\n"
     ]
    }
   ],
   "source": [
    "print(\"label : {}\".format(y_train[0]))\n",
    "print(\"label encodé : {}\".format(y_train_enc[0]))"
   ]
  },
  {
   "cell_type": "markdown",
   "metadata": {},
   "source": [
    "## Construction du réseau de neurones  \n",
    "\n",
    "On peut maintenant construire notre premier réseau de neurones. \n",
    "\n",
    "Il s'agit du réseau le plus simple : \n",
    "- 784 neurones en entrées (les pixels)\n",
    "- 10 neurones en sortie (le nombre de classes)\n",
    "- pas de couches cachées entre !\n",
    "- on termine par une fonction d'activation 'softmax'\n",
    "\n",
    "L'opération pour passes entre ces deux couches de neurones, est un produit matriciel et l'addition d'un vecteur de biais. (cf. slides). Le nombre de paramètres à entraîner est donc : \n",
    "\n",
    "- une matrice de taille [784, 10] --> 7840 paramètres \n",
    "- un vecteur de biais de taille [10,] --> 10 paramètres \n",
    "\n",
    "Au total : 7850 paramètres ! "
   ]
  },
  {
   "cell_type": "code",
   "execution_count": 14,
   "metadata": {
    "collapsed": true
   },
   "outputs": [],
   "source": [
    "from keras.models import Sequential\n",
    "from keras.layers import Dense, InputLayer, Activation"
   ]
  },
  {
   "cell_type": "code",
   "execution_count": 17,
   "metadata": {
    "collapsed": true
   },
   "outputs": [],
   "source": [
    "# on crée un modèle vide\n",
    "model = Sequential()\n",
    "\n",
    "#on ajoute une première couche qui spécifie la taille des données\n",
    "model.add(InputLayer(input_shape=(784,)))\n",
    "\n",
    "# on ajoute la couche de neurones de sorties\n",
    "model.add(Dense(10))\n",
    "\n",
    "# puis la fonction d'activation 'softmax'\n",
    "model.add(Activation(\"softmax\"))"
   ]
  },
  {
   "cell_type": "code",
   "execution_count": 18,
   "metadata": {},
   "outputs": [
    {
     "name": "stdout",
     "output_type": "stream",
     "text": [
      "_________________________________________________________________\n",
      "Layer (type)                 Output Shape              Param #   \n",
      "=================================================================\n",
      "input_2 (InputLayer)         (None, 784)               0         \n",
      "_________________________________________________________________\n",
      "dense_2 (Dense)              (None, 10)                7850      \n",
      "_________________________________________________________________\n",
      "activation_2 (Activation)    (None, 10)                0         \n",
      "=================================================================\n",
      "Total params: 7,850\n",
      "Trainable params: 7,850\n",
      "Non-trainable params: 0\n",
      "_________________________________________________________________\n"
     ]
    }
   ],
   "source": [
    "model.summary()"
   ]
  },
  {
   "cell_type": "markdown",
   "metadata": {},
   "source": [
    "**Note** : On retrouve bien les 7850 paramètres prévus !"
   ]
  },
  {
   "cell_type": "raw",
   "metadata": {
    "collapsed": true
   },
   "source": [
    "# ce modèle peut aussi s'écrire une seule ligne ! \n",
    "model = Sequential()\n",
    "model.add(Dense(10, input_shape=(784,), activation=\"softmax\"))"
   ]
  },
  {
   "cell_type": "markdown",
   "metadata": {},
   "source": [
    "## Apprentissage du réseau de neurones"
   ]
  },
  {
   "cell_type": "markdown",
   "metadata": {},
   "source": [
    "Maintenant on doit entrîner le modèle, par descente du gradient. \n",
    "\n",
    "Dans un premier temps il faut : \n",
    "- spécifier l'algorithme d'optimisation (SGD : descente du gradient stochastique)\n",
    "- spécifier une fonction d'erreur \n",
    "    - dans le cas de la classification d'images -> entropie croisée\n",
    "    - c'est cette valeur qui va être minimisée\n",
    "- ajouter si on veut des métriques (optionel)\n",
    "    - juste pour ajouter une information \n",
    "    - dans le cas de la classification, on peut ajouter la précision (nb de bonnes prédictions/nb de prédictions)\n",
    "\n",
    "(voir dans la documentation pour plus de métriques)"
   ]
  },
  {
   "cell_type": "code",
   "execution_count": 27,
   "metadata": {
    "collapsed": true
   },
   "outputs": [],
   "source": [
    "# on crée un optimizer de type SGD, et on spécifie le pas d'apprentissage \n",
    "# qui sera constant pendant tout l'entraînement\n",
    "\n",
    "from keras.optimizers import SGD\n",
    "sgd = SGD(lr=0.001)"
   ]
  },
  {
   "cell_type": "code",
   "execution_count": 28,
   "metadata": {
    "collapsed": true
   },
   "outputs": [],
   "source": [
    "# on utilise la méthode .compile() du modèle crée précédemment.\n",
    "# on ajoute l'algo d'optimisation, le nom de la fonction d'erreur à utiliser\n",
    "# et les métriques à utiliser \n",
    "\n",
    "model.compile(optimizer=sgd,\n",
    "              loss='categorical_crossentropy',\n",
    "              metrics=['accuracy'])"
   ]
  },
  {
   "cell_type": "markdown",
   "metadata": {},
   "source": [
    "#### Lancer l'entraînement\n",
    "\n",
    "On peut enfin lancer l'entraînement !\n",
    "\n",
    "Pour ça, on utilise la méthode `.fit()` du modèle. \n",
    "\n",
    "On y ajoute : \n",
    "- les données d'entraînements\n",
    "- les labels encodés\n",
    "- la taille de batch\n",
    "- le nombre d'epochs (nb iteration = nb_epoch * (nb exemple // batch_size))\n",
    "- on peut découper le dataset d'entraînement en 80% + 20%\n",
    "     - 80% pour l'entraînement\n",
    "     - 20% pour évaluer le modèle à la fin de chaque époque \n",
    "- `shuffle=True` oblige Keras à mélanger les données d'entraînement à la fin de chaque epoch\n",
    "    - permet d'avoir des batchs différents à chaque epoch."
   ]
  },
  {
   "cell_type": "markdown",
   "metadata": {},
   "source": [
    "Cette fonction retourne un objet `history`.Il contient des informations sur l'entraînement. \n",
    "\n",
    "Notamment les valeurs de la fonction de d'erreur et des métriques. "
   ]
  },
  {
   "cell_type": "code",
   "execution_count": 29,
   "metadata": {
    "scrolled": true
   },
   "outputs": [
    {
     "name": "stdout",
     "output_type": "stream",
     "text": [
      "Train on 48000 samples, validate on 12000 samples\n",
      "Epoch 1/50\n",
      "1s - loss: 1.7774 - acc: 0.5217 - val_loss: 1.3484 - val_acc: 0.7491\n",
      "Epoch 2/50\n",
      "1s - loss: 1.1656 - acc: 0.7811 - val_loss: 0.9826 - val_acc: 0.8277\n",
      "Epoch 3/50\n",
      "1s - loss: 0.9215 - acc: 0.8212 - val_loss: 0.8118 - val_acc: 0.8478\n",
      "Epoch 4/50\n",
      "1s - loss: 0.7946 - acc: 0.8370 - val_loss: 0.7136 - val_acc: 0.8558\n",
      "Epoch 5/50\n",
      "1s - loss: 0.7164 - acc: 0.8461 - val_loss: 0.6496 - val_acc: 0.8627\n",
      "Epoch 6/50\n",
      "1s - loss: 0.6627 - acc: 0.8516 - val_loss: 0.6046 - val_acc: 0.8667\n",
      "Epoch 7/50\n",
      "1s - loss: 0.6235 - acc: 0.8559 - val_loss: 0.5703 - val_acc: 0.8712\n",
      "Epoch 8/50\n",
      "1s - loss: 0.5933 - acc: 0.8598 - val_loss: 0.5440 - val_acc: 0.8740\n",
      "Epoch 9/50\n",
      "1s - loss: 0.5691 - acc: 0.8630 - val_loss: 0.5228 - val_acc: 0.8758\n",
      "Epoch 10/50\n",
      "1s - loss: 0.5493 - acc: 0.8653 - val_loss: 0.5051 - val_acc: 0.8791\n",
      "Epoch 11/50\n",
      "1s - loss: 0.5326 - acc: 0.8677 - val_loss: 0.4903 - val_acc: 0.8802\n",
      "Epoch 12/50\n",
      "1s - loss: 0.5184 - acc: 0.8702 - val_loss: 0.4778 - val_acc: 0.8812\n",
      "Epoch 13/50\n",
      "1s - loss: 0.5061 - acc: 0.8721 - val_loss: 0.4667 - val_acc: 0.8828\n",
      "Epoch 14/50\n",
      "1s - loss: 0.4953 - acc: 0.8738 - val_loss: 0.4571 - val_acc: 0.8843\n",
      "Epoch 15/50\n",
      "1s - loss: 0.4857 - acc: 0.8752 - val_loss: 0.4486 - val_acc: 0.8861\n",
      "Epoch 16/50\n",
      "1s - loss: 0.4772 - acc: 0.8764 - val_loss: 0.4410 - val_acc: 0.8872\n",
      "Epoch 17/50\n",
      "1s - loss: 0.4694 - acc: 0.8778 - val_loss: 0.4342 - val_acc: 0.8884\n",
      "Epoch 18/50\n",
      "1s - loss: 0.4625 - acc: 0.8786 - val_loss: 0.4280 - val_acc: 0.8897\n",
      "Epoch 19/50\n",
      "1s - loss: 0.4561 - acc: 0.8796 - val_loss: 0.4223 - val_acc: 0.8912\n",
      "Epoch 20/50\n",
      "1s - loss: 0.4502 - acc: 0.8807 - val_loss: 0.4171 - val_acc: 0.8925\n",
      "Epoch 21/50\n",
      "1s - loss: 0.4448 - acc: 0.8818 - val_loss: 0.4124 - val_acc: 0.8933\n",
      "Epoch 22/50\n",
      "1s - loss: 0.4398 - acc: 0.8830 - val_loss: 0.4079 - val_acc: 0.8943\n",
      "Epoch 23/50\n",
      "1s - loss: 0.4352 - acc: 0.8841 - val_loss: 0.4038 - val_acc: 0.8948\n",
      "Epoch 24/50\n",
      "1s - loss: 0.4308 - acc: 0.8854 - val_loss: 0.4000 - val_acc: 0.8957\n",
      "Epoch 25/50\n",
      "1s - loss: 0.4268 - acc: 0.8860 - val_loss: 0.3965 - val_acc: 0.8967\n",
      "Epoch 26/50\n",
      "1s - loss: 0.4230 - acc: 0.8863 - val_loss: 0.3931 - val_acc: 0.8967\n",
      "Epoch 27/50\n",
      "1s - loss: 0.4194 - acc: 0.8873 - val_loss: 0.3900 - val_acc: 0.8986\n",
      "Epoch 28/50\n",
      "1s - loss: 0.4160 - acc: 0.8878 - val_loss: 0.3871 - val_acc: 0.8985\n",
      "Epoch 29/50\n",
      "1s - loss: 0.4128 - acc: 0.8888 - val_loss: 0.3843 - val_acc: 0.8998\n",
      "Epoch 30/50\n",
      "1s - loss: 0.4098 - acc: 0.8891 - val_loss: 0.3817 - val_acc: 0.8993\n",
      "Epoch 31/50\n",
      "1s - loss: 0.4070 - acc: 0.8899 - val_loss: 0.3792 - val_acc: 0.8998\n",
      "Epoch 32/50\n",
      "1s - loss: 0.4042 - acc: 0.8905 - val_loss: 0.3768 - val_acc: 0.9005\n",
      "Epoch 33/50\n",
      "1s - loss: 0.4016 - acc: 0.8910 - val_loss: 0.3746 - val_acc: 0.9010\n",
      "Epoch 34/50\n",
      "1s - loss: 0.3992 - acc: 0.8913 - val_loss: 0.3725 - val_acc: 0.9015\n",
      "Epoch 35/50\n",
      "1s - loss: 0.3968 - acc: 0.8918 - val_loss: 0.3704 - val_acc: 0.9019\n",
      "Epoch 36/50\n",
      "1s - loss: 0.3945 - acc: 0.8923 - val_loss: 0.3685 - val_acc: 0.9022\n",
      "Epoch 37/50\n",
      "1s - loss: 0.3924 - acc: 0.8928 - val_loss: 0.3666 - val_acc: 0.9024\n",
      "Epoch 38/50\n",
      "1s - loss: 0.3903 - acc: 0.8931 - val_loss: 0.3649 - val_acc: 0.9023\n",
      "Epoch 39/50\n",
      "1s - loss: 0.3883 - acc: 0.8937 - val_loss: 0.3631 - val_acc: 0.9027\n",
      "Epoch 40/50\n",
      "1s - loss: 0.3864 - acc: 0.8941 - val_loss: 0.3615 - val_acc: 0.9034\n",
      "Epoch 41/50\n",
      "1s - loss: 0.3845 - acc: 0.8947 - val_loss: 0.3600 - val_acc: 0.9030\n",
      "Epoch 42/50\n",
      "1s - loss: 0.3827 - acc: 0.8950 - val_loss: 0.3584 - val_acc: 0.9040\n",
      "Epoch 43/50\n",
      "1s - loss: 0.3810 - acc: 0.8952 - val_loss: 0.3570 - val_acc: 0.9049\n",
      "Epoch 44/50\n",
      "1s - loss: 0.3794 - acc: 0.8958 - val_loss: 0.3556 - val_acc: 0.9048\n",
      "Epoch 45/50\n",
      "1s - loss: 0.3778 - acc: 0.8958 - val_loss: 0.3542 - val_acc: 0.9048\n",
      "Epoch 46/50\n",
      "1s - loss: 0.3762 - acc: 0.8964 - val_loss: 0.3529 - val_acc: 0.9055\n",
      "Epoch 47/50\n",
      "1s - loss: 0.3747 - acc: 0.8966 - val_loss: 0.3517 - val_acc: 0.9052\n",
      "Epoch 48/50\n",
      "1s - loss: 0.3733 - acc: 0.8970 - val_loss: 0.3504 - val_acc: 0.9057\n",
      "Epoch 49/50\n",
      "1s - loss: 0.3719 - acc: 0.8971 - val_loss: 0.3492 - val_acc: 0.9058\n",
      "Epoch 50/50\n",
      "1s - loss: 0.3705 - acc: 0.8973 - val_loss: 0.3481 - val_acc: 0.9064\n"
     ]
    }
   ],
   "source": [
    "history = model.fit(x_train, y_train_enc,\n",
    "              batch_size=32, epochs=50,\n",
    "              verbose=2,\n",
    "              validation_split=0.2,\n",
    "              shuffle=True)"
   ]
  },
  {
   "cell_type": "code",
   "execution_count": 30,
   "metadata": {},
   "outputs": [
    {
     "data": {
      "image/png": "[encoded data removed]",
      "text/plain": [
       "<matplotlib.figure.Figure at 0x7ff2ab7f00b8>"
      ]
     },
     "metadata": {},
     "output_type": "display_data"
    }
   ],
   "source": [
    "plt.plot(history.history['acc'],'r')\n",
    "plt.plot(history.history['val_acc'],'b')\n",
    "plt.ylabel('Accuracy %')\n",
    "plt.xlabel('Training iterations (epochs)')\n",
    "plt.legend(['Training','Testing'], loc='upper left')\n",
    "plt.show()"
   ]
  },
  {
   "cell_type": "code",
   "execution_count": 31,
   "metadata": {},
   "outputs": [
    {
     "data": {
      "image/png": "[encoded data removed]",
      "text/plain": [
       "<matplotlib.figure.Figure at 0x7ff2a37464a8>"
      ]
     },
     "metadata": {},
     "output_type": "display_data"
    }
   ],
   "source": [
    "plt.plot(history.history['loss'],'r')\n",
    "plt.plot(history.history['val_loss'],'b')\n",
    "plt.ylabel('Loss %')\n",
    "plt.xlabel('Training iterations (epochs)')\n",
    "plt.legend(['Training','Testing'], loc='upper left')\n",
    "plt.show()"
   ]
  },
  {
   "cell_type": "markdown",
   "metadata": {},
   "source": [
    "## Evaluer le modèle sur le données de test "
   ]
  },
  {
   "cell_type": "markdown",
   "metadata": {},
   "source": [
    "Le modèle est entraîné. \n",
    "\n",
    "On peut maintenant l'évaluer pour de bon avec le dataset de test.\n",
    "\n",
    "Pour ça on utilise la méthode `.evaluate()` du modèle : \n",
    "- on donne les données (images sous la forme de vecteurs)\n",
    "    - **les données de test doivent avoir subis les mêmes opérations que les données d'entraînement**\n",
    "- on donne les bonnes réponses (les labels encodés)\n",
    "\n",
    "Cette méthodes retourne dans un tableau : \n",
    "- la valeur moyenne de la fonction d'erreur \n",
    "- la valeur moyenne de chacune des métriques choisies plus haut\n",
    "\n",
    "Dans notre cas: `[categorical_entropy, accuracy]`"
   ]
  },
  {
   "cell_type": "code",
   "execution_count": 33,
   "metadata": {},
   "outputs": [
    {
     "name": "stdout",
     "output_type": "stream",
     "text": [
      " 9952/10000 [============================>.] - ETA: 0s\n",
      "[loss, accuracy] : [0.34768927928209303, 0.90469999999999995]\n"
     ]
    }
   ],
   "source": [
    "res = model.evaluate(x_test, y_test_enc)\n",
    "print(\"\\n[loss, accuracy] : {}\".format(res))"
   ]
  },
  {
   "cell_type": "markdown",
   "metadata": {},
   "source": [
    "### Faire des prédictions"
   ]
  },
  {
   "cell_type": "markdown",
   "metadata": {},
   "source": [
    "On peut aussi obtenir les prédictions : \n",
    "- pour chaque exemple, on a la classe la plus probable "
   ]
  },
  {
   "cell_type": "code",
   "execution_count": 34,
   "metadata": {},
   "outputs": [
    {
     "name": "stdout",
     "output_type": "stream",
     "text": [
      " 7136/10000 [====================>.........] - ETA: 0s"
     ]
    }
   ],
   "source": [
    "pred = model.predict_classes(x_test)"
   ]
  },
  {
   "cell_type": "code",
   "execution_count": 35,
   "metadata": {},
   "outputs": [
    {
     "name": "stdout",
     "output_type": "stream",
     "text": [
      "(10000,)\n",
      "7\n"
     ]
    }
   ],
   "source": [
    "print(pred.shape)\n",
    "print(pred[0])"
   ]
  },
  {
   "cell_type": "code",
   "execution_count": 36,
   "metadata": {},
   "outputs": [
    {
     "data": {
      "image/png": "[encoded data removed]",
      "text/plain": [
       "<matplotlib.figure.Figure at 0x7ff2a36c10f0>"
      ]
     },
     "metadata": {},
     "output_type": "display_data"
    },
    {
     "name": "stdout",
     "output_type": "stream",
     "text": [
      "[7 2 1 0 4 1 4 9 6]\n",
      "[7 2 1 0 4 1 4 9 5]\n"
     ]
    }
   ],
   "source": [
    "for i in range(9):\n",
    "    plt.subplot(331+i)\n",
    "    #Les images sont sous forme de vecteurs, de taille 784=28x28\n",
    "    plt.imshow(x_test[i].reshape(28,28), cmap='gray')\n",
    "plt.show()\n",
    "print(pred[:9])\n",
    "print(y_test[:9])"
   ]
  },
  {
   "cell_type": "markdown",
   "metadata": {
    "collapsed": true
   },
   "source": [
    "### Obtenir les probabilités d'appatenance à chacune des classes\n",
    "\n",
    "On peut aussi obtenit le vecteur d'appartenance à chacune des classes. \n",
    "\n",
    "Cela permet d'observer le niveau de confidence d'une réponse. "
   ]
  },
  {
   "cell_type": "code",
   "execution_count": 38,
   "metadata": {},
   "outputs": [
    {
     "name": "stdout",
     "output_type": "stream",
     "text": [
      "(10000, 10)\n",
      "[  3.44166420e-02   9.80403973e-04   1.18018992e-01   1.21326048e-04\n",
      "   6.27961755e-02   2.27145310e-02   7.31981158e-01   3.36120138e-04\n",
      "   2.13943664e-02   7.24023394e-03]\n",
      "[ 0.  0.  0.  0.  0.  1.  0.  0.  0.  0.]\n"
     ]
    }
   ],
   "source": [
    "probs = model.predict(x_test)\n",
    "print(probs.shape)\n",
    "print(probs[8])\n",
    "print(y_test_enc[8])"
   ]
  },
  {
   "cell_type": "markdown",
   "metadata": {},
   "source": [
    "Ici, \n",
    "- le modèle est ceratin à 73,2% que l'image `8` est un 6. \n",
    "- 11.8% que c'est un `2`\n",
    "- 2.3% que c'est un `5`\n",
    "\n",
    "Alors que la bonne réponse est `5`"
   ]
  },
  {
   "cell_type": "markdown",
   "metadata": {},
   "source": [
    "## Sauvegarder et charger des modèles \n",
    "\n",
    "Le modèle actuellement en mémoire est entrainé. \n",
    "\n",
    "Pour le réutiliser plus tard, il existe plusieurs méthodes de sauvegarde. \n",
    "\n",
    "\n",
    "#### Uniquement l'architecture du modèle (pas ses paramètres internes) \n",
    "\n",
    "- il faudra alors ré-entraîner le modèle ! "
   ]
  },
  {
   "cell_type": "code",
   "execution_count": 39,
   "metadata": {
    "collapsed": true
   },
   "outputs": [],
   "source": [
    "import json\n",
    "from pprint import pprint\n",
    "\n",
    "# Keras convertit sous la forme d'une chaîne de caractères (string) les spécifications du modèle.\n",
    "json_string = model.to_json()\n",
    "\n",
    "# cette 'string' est au format json\n",
    "# on peut la sauvegarder dans un fichier. \n",
    "with open('models/model_vanilla_NN.json', 'w') as outfile:\n",
    "    json.dump(json_string, outfile)"
   ]
  },
  {
   "cell_type": "code",
   "execution_count": 40,
   "metadata": {},
   "outputs": [
    {
     "name": "stdout",
     "output_type": "stream",
     "text": [
      "{\"backend\": \"tensorflow\", \"class_name\": \"Sequential\", \"keras_version\": \"2.0.6\", \"config\": [{\"class_name\": \"Dense\", \"config\": {\"activity_regularizer\": null, \"bias_regularizer\": null, \"name\": \"dense_3\", \"kernel_initializer\": {\"class_name\": \"VarianceScaling\", \"config\": {\"mode\": \"fan_avg\", \"distribution\": \"uniform\", \"seed\": null, \"scale\": 1.0}}, \"use_bias\": true, \"batch_input_shape\": [null, 784], \"units\": 10, \"kernel_regularizer\": null, \"trainable\": true, \"dtype\": \"float32\", \"bias_initializer\": {\"class_name\": \"Zeros\", \"config\": {}}, \"activation\": \"softmax\", \"bias_constraint\": null, \"kernel_constraint\": null}}]}\n"
     ]
    }
   ],
   "source": [
    "# voici le contenu de la string\n",
    "print(json_string)"
   ]
  },
  {
   "cell_type": "code",
   "execution_count": 41,
   "metadata": {
    "collapsed": true
   },
   "outputs": [],
   "source": [
    "# il existe une fonction pour recréer le modèle à partir de cette chaine de caractères.\n",
    "from keras.models import model_from_json\n",
    "model_json = model_from_json(json_string)\n",
    "\n",
    "# ici model_json est un modèle similaire à `model`\n",
    "# même architecture/topologie \n",
    "# mais il n'est pas entraîné ! "
   ]
  },
  {
   "cell_type": "markdown",
   "metadata": {},
   "source": [
    "#### Sauvegarder un modèle et ses poids \n",
    "\n",
    "On peut aussi sauvegarder tout le modèle {architecture + paramètres entrainés} dans un seul fichier ! \n",
    "\n",
    "Il s'agit d'un fichier `HDF5` très utile pour stocker facilement des tableaux et valeurs numériques."
   ]
  },
  {
   "cell_type": "code",
   "execution_count": 42,
   "metadata": {
    "collapsed": true
   },
   "outputs": [],
   "source": [
    "model.save(\"models/model_vanilla_NN.h5\")"
   ]
  },
  {
   "cell_type": "code",
   "execution_count": 43,
   "metadata": {
    "collapsed": true
   },
   "outputs": [],
   "source": [
    "# il existe aussi une fonction pour créer un modèle à partir de ce fichier. \n",
    "from keras.models import load_model\n",
    "model_h5 = load_model(\"models/model_vanilla_NN.h5\")\n",
    "\n",
    "# ici model_h5 est le même que model : \n",
    "# - même architecture \n",
    "# - même paramètres (entraînés)\n",
    "\n",
    "# donc même performances :"
   ]
  },
  {
   "cell_type": "code",
   "execution_count": 44,
   "metadata": {},
   "outputs": [
    {
     "name": "stdout",
     "output_type": "stream",
     "text": [
      " 8288/10000 [=======================>......] - ETA: 0s"
     ]
    },
    {
     "data": {
      "text/plain": [
       "[0.34768927928209303, 0.90469999999999995]"
      ]
     },
     "execution_count": 44,
     "metadata": {},
     "output_type": "execute_result"
    }
   ],
   "source": [
    "model_h5.evaluate(x_test, y_test_enc)"
   ]
  },
  {
   "cell_type": "code",
   "execution_count": null,
   "metadata": {
    "collapsed": true
   },
   "outputs": [],
   "source": []
  }
 ],
 "metadata": {
  "kernelspec": {
   "display_name": "Python 3",
   "language": "python",
   "name": "python3"
  },
  "language_info": {
   "codemirror_mode": {
    "name": "ipython",
    "version": 3
   },
   "file_extension": ".py",
   "mimetype": "text/x-python",
   "name": "python",
   "nbconvert_exporter": "python",
   "pygments_lexer": "ipython3",
   "version": "3.5.2"
  },
  "widgets": {
   "state": {},
   "version": "1.1.2"
  }
 },
 "nbformat": 4,
 "nbformat_minor": 2
}
