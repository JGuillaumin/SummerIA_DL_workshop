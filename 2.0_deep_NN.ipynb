{
 "cells": [
  {
   "cell_type": "code",
   "execution_count": 1,
   "metadata": {},
   "outputs": [
    {
     "name": "stderr",
     "output_type": "stream",
     "text": [
      "Using TensorFlow backend.\n"
     ]
    },
    {
     "name": "stdout",
     "output_type": "stream",
     "text": [
      "Keras : 2.0.6\n"
     ]
    }
   ],
   "source": [
    "import numpy as np\n",
    "import keras\n",
    "import utils\n",
    "\n",
    "import matplotlib.pyplot as plt\n",
    "\n",
    "print(\"Keras : {}\".format(keras.__version__))\n",
    "%matplotlib inline "
   ]
  },
  {
   "cell_type": "markdown",
   "metadata": {},
   "source": [
    "## Caisse à outils : même qu'avant\n",
    "\n",
    "```python\n",
    "#charger le dataset mnist\n",
    "utils.load_mnist\n",
    "\n",
    "#one-hot encoding des labels\n",
    "keras.utils.np_utils.to_categorical\n",
    "\n",
    "#créer un modèle avec Keras\n",
    "keras.models.Sequential\n",
    "\n",
    "#ajouter des couches dedans \n",
    "keras.layers.InputLayer\n",
    "keras.layers.Dense\n",
    "keras.layers.Activation\n",
    "\n",
    "#entrainer le modele par descente du gradient\n",
    "keras.optimizers.SGD\n",
    "```\n",
    "\n",
    "\n",
    "On va utiliser les mêmes outils. \n",
    "\n",
    "Mais, on va rajouter des couches cachées entre la couche d'entrée et la sortie. \n",
    "\n",
    "(Ces couches seront identiques à tous les modèles)"
   ]
  },
  {
   "cell_type": "markdown",
   "metadata": {},
   "source": [
    "## Importer et pré-traitement des données"
   ]
  },
  {
   "cell_type": "code",
   "execution_count": 3,
   "metadata": {
    "collapsed": true
   },
   "outputs": [],
   "source": [
    "# On effectue les mêmes opérations que précédements\n",
    "(x_train, y_train), (x_test, y_test) = utils.load_mnist(path=\"mnist/\")\n",
    "\n",
    "x_train = x_train.astype('float32')\n",
    "x_test = x_test.astype('float32')\n",
    "\n",
    "x_train = x_train/255.\n",
    "x_test = x_test/255.\n",
    "\n",
    "# les images sont toujours représentées sour la forme de vecteurs\n",
    "x_train = x_train.reshape([-1, 28*28])\n",
    "x_test = x_test.reshape([-1, 28*28])"
   ]
  },
  {
   "cell_type": "code",
   "execution_count": 4,
   "metadata": {},
   "outputs": [],
   "source": [
    "# idem pour les labels\n",
    "from keras.utils.np_utils import to_categorical\n",
    "y_train_enc = to_categorical(y_train, num_classes=10)\n",
    "y_test_enc = to_categorical(y_test, num_classes=10)"
   ]
  },
  {
   "cell_type": "markdown",
   "metadata": {},
   "source": [
    "## Construction du réseau de neurones"
   ]
  },
  {
   "cell_type": "code",
   "execution_count": 5,
   "metadata": {
    "collapsed": true
   },
   "outputs": [],
   "source": [
    "from keras.models import Sequential\n",
    "from keras.layers import Dense, InputLayer, Activation"
   ]
  },
  {
   "cell_type": "code",
   "execution_count": 6,
   "metadata": {
    "collapsed": true
   },
   "outputs": [],
   "source": [
    "# on crée un modèle vide\n",
    "model = Sequential()\n",
    "\n",
    "#on ajoute une première couche qui spécifie la taille des données (couche d'entrée)\n",
    "model.add(InputLayer(input_shape=(784,)))\n",
    "\n",
    "# on ajoute des couches cachées (directement avec la fonction d'activation)\n",
    "model.add(Dense(256, activation=\"sigmoid\"))\n",
    "model.add(Dense(64, activation=\"sigmoid\"))\n",
    "model.add(Dense(32, activation=\"sigmoid\"))\n",
    "\n",
    "# puis couche de sortie + fonction d'activation 'softmax'\n",
    "model.add(Dense(10, activation=\"softmax\"))"
   ]
  },
  {
   "cell_type": "code",
   "execution_count": null,
   "metadata": {
    "collapsed": true
   },
   "outputs": [],
   "source": [
    "model.summarymary()"
   ]
  },
  {
   "cell_type": "markdown",
   "metadata": {},
   "source": [
    "## Apprentissage du réseau de neurones"
   ]
  },
  {
   "cell_type": "code",
   "execution_count": 14,
   "metadata": {
    "collapsed": true
   },
   "outputs": [],
   "source": [
    "# pour l'instant on garde l'algo 'SGD'\n",
    "# mais on ajoute du `momentum` (cf slides)\n",
    "\n",
    "from keras.optimizers import SGD\n",
    "sgd = SGD(lr=0.0005, momentum=0.9)"
   ]
  },
  {
   "cell_type": "code",
   "execution_count": 15,
   "metadata": {
    "collapsed": true
   },
   "outputs": [],
   "source": [
    "model.compile(optimizer=sgd,\n",
    "              loss='categorical_crossentropy',\n",
    "              metrics=['accuracy'])"
   ]
  },
  {
   "cell_type": "code",
   "execution_count": 19,
   "metadata": {
    "scrolled": true
   },
   "outputs": [
    {
     "name": "stdout",
     "output_type": "stream",
     "text": [
      "Train on 48000 samples, validate on 12000 samples\n",
      "Epoch 1/200\n",
      "4s - loss: 0.1753 - acc: 0.9494 - val_loss: 0.1800 - val_acc: 0.9494\n",
      "Epoch 2/200\n",
      "5s - loss: 0.1741 - acc: 0.9497 - val_loss: 0.1783 - val_acc: 0.9493\n",
      "Epoch 3/200\n",
      "5s - loss: 0.1730 - acc: 0.9499 - val_loss: 0.1775 - val_acc: 0.9496\n",
      "Epoch 4/200\n",
      "5s - loss: 0.1718 - acc: 0.9502 - val_loss: 0.1756 - val_acc: 0.9498\n",
      "Epoch 5/200\n",
      "5s - loss: 0.1706 - acc: 0.9507 - val_loss: 0.1751 - val_acc: 0.9502\n",
      "Epoch 6/200\n",
      "4s - loss: 0.1694 - acc: 0.9513 - val_loss: 0.1747 - val_acc: 0.9506\n",
      "Epoch 7/200\n",
      "4s - loss: 0.1682 - acc: 0.9519 - val_loss: 0.1733 - val_acc: 0.9505\n",
      "Epoch 8/200\n",
      "4s - loss: 0.1672 - acc: 0.9521 - val_loss: 0.1725 - val_acc: 0.9504\n",
      "Epoch 9/200\n",
      "4s - loss: 0.1660 - acc: 0.9522 - val_loss: 0.1712 - val_acc: 0.9510\n",
      "Epoch 10/200\n",
      "4s - loss: 0.1649 - acc: 0.9530 - val_loss: 0.1709 - val_acc: 0.9510\n",
      "Epoch 11/200\n",
      "4s - loss: 0.1638 - acc: 0.9532 - val_loss: 0.1695 - val_acc: 0.9507\n",
      "Epoch 12/200\n",
      "4s - loss: 0.1627 - acc: 0.9535 - val_loss: 0.1687 - val_acc: 0.9513\n",
      "Epoch 13/200\n",
      "5s - loss: 0.1617 - acc: 0.9542 - val_loss: 0.1679 - val_acc: 0.9514\n",
      "Epoch 14/200\n",
      "4s - loss: 0.1607 - acc: 0.9544 - val_loss: 0.1669 - val_acc: 0.9517\n",
      "Epoch 15/200\n",
      "4s - loss: 0.1596 - acc: 0.9546 - val_loss: 0.1660 - val_acc: 0.9520\n",
      "Epoch 16/200\n",
      "5s - loss: 0.1586 - acc: 0.9546 - val_loss: 0.1654 - val_acc: 0.9518\n",
      "Epoch 17/200\n",
      "5s - loss: 0.1576 - acc: 0.9553 - val_loss: 0.1647 - val_acc: 0.9525\n",
      "Epoch 18/200\n",
      "4s - loss: 0.1564 - acc: 0.9559 - val_loss: 0.1638 - val_acc: 0.9524\n",
      "Epoch 19/200\n",
      "4s - loss: 0.1554 - acc: 0.9559 - val_loss: 0.1626 - val_acc: 0.9533\n",
      "Epoch 20/200\n",
      "4s - loss: 0.1543 - acc: 0.9562 - val_loss: 0.1619 - val_acc: 0.9532\n",
      "Epoch 21/200\n",
      "4s - loss: 0.1535 - acc: 0.9563 - val_loss: 0.1609 - val_acc: 0.9533\n",
      "Epoch 22/200\n",
      "4s - loss: 0.1524 - acc: 0.9568 - val_loss: 0.1606 - val_acc: 0.9531\n",
      "Epoch 23/200\n",
      "4s - loss: 0.1514 - acc: 0.9571 - val_loss: 0.1609 - val_acc: 0.9537\n",
      "Epoch 24/200\n",
      "4s - loss: 0.1504 - acc: 0.9575 - val_loss: 0.1589 - val_acc: 0.9537\n",
      "Epoch 25/200\n",
      "4s - loss: 0.1495 - acc: 0.9579 - val_loss: 0.1577 - val_acc: 0.9548\n",
      "Epoch 26/200\n",
      "4s - loss: 0.1484 - acc: 0.9581 - val_loss: 0.1572 - val_acc: 0.9543\n",
      "Epoch 27/200\n",
      "4s - loss: 0.1476 - acc: 0.9582 - val_loss: 0.1560 - val_acc: 0.9550\n",
      "Epoch 28/200\n",
      "4s - loss: 0.1466 - acc: 0.9589 - val_loss: 0.1552 - val_acc: 0.9557\n",
      "Epoch 29/200\n",
      "4s - loss: 0.1457 - acc: 0.9592 - val_loss: 0.1554 - val_acc: 0.9551\n",
      "Epoch 30/200\n",
      "4s - loss: 0.1447 - acc: 0.9587 - val_loss: 0.1544 - val_acc: 0.9553\n",
      "Epoch 31/200\n",
      "4s - loss: 0.1438 - acc: 0.9591 - val_loss: 0.1536 - val_acc: 0.9561\n",
      "Epoch 32/200\n",
      "4s - loss: 0.1429 - acc: 0.9599 - val_loss: 0.1532 - val_acc: 0.9554\n",
      "Epoch 33/200\n",
      "4s - loss: 0.1420 - acc: 0.9603 - val_loss: 0.1523 - val_acc: 0.9558\n",
      "Epoch 34/200\n",
      "4s - loss: 0.1411 - acc: 0.9603 - val_loss: 0.1515 - val_acc: 0.9562\n",
      "Epoch 35/200\n",
      "4s - loss: 0.1402 - acc: 0.9606 - val_loss: 0.1514 - val_acc: 0.9566\n",
      "Epoch 36/200\n",
      "4s - loss: 0.1394 - acc: 0.9606 - val_loss: 0.1500 - val_acc: 0.9563\n",
      "Epoch 37/200\n",
      "4s - loss: 0.1385 - acc: 0.9610 - val_loss: 0.1493 - val_acc: 0.9559\n",
      "Epoch 38/200\n",
      "4s - loss: 0.1377 - acc: 0.9613 - val_loss: 0.1492 - val_acc: 0.9566\n",
      "Epoch 39/200\n",
      "4s - loss: 0.1366 - acc: 0.9614 - val_loss: 0.1485 - val_acc: 0.9570\n",
      "Epoch 40/200\n",
      "4s - loss: 0.1361 - acc: 0.9619 - val_loss: 0.1478 - val_acc: 0.9569\n",
      "Epoch 41/200\n",
      "4s - loss: 0.1352 - acc: 0.9622 - val_loss: 0.1469 - val_acc: 0.9571\n",
      "Epoch 42/200\n",
      "4s - loss: 0.1343 - acc: 0.9624 - val_loss: 0.1464 - val_acc: 0.9573\n",
      "Epoch 43/200\n",
      "4s - loss: 0.1335 - acc: 0.9628 - val_loss: 0.1452 - val_acc: 0.9579\n",
      "Epoch 44/200\n",
      "4s - loss: 0.1327 - acc: 0.9630 - val_loss: 0.1450 - val_acc: 0.9575\n",
      "Epoch 45/200\n",
      "4s - loss: 0.1319 - acc: 0.9630 - val_loss: 0.1443 - val_acc: 0.9578\n",
      "Epoch 46/200\n",
      "4s - loss: 0.1311 - acc: 0.9635 - val_loss: 0.1438 - val_acc: 0.9574\n",
      "Epoch 47/200\n",
      "4s - loss: 0.1303 - acc: 0.9639 - val_loss: 0.1437 - val_acc: 0.9581\n",
      "Epoch 48/200\n",
      "5s - loss: 0.1294 - acc: 0.9640 - val_loss: 0.1428 - val_acc: 0.9580\n",
      "Epoch 49/200\n",
      "4s - loss: 0.1286 - acc: 0.9641 - val_loss: 0.1420 - val_acc: 0.9585\n",
      "Epoch 50/200\n",
      "4s - loss: 0.1278 - acc: 0.9645 - val_loss: 0.1418 - val_acc: 0.9581\n",
      "Epoch 51/200\n",
      "4s - loss: 0.1272 - acc: 0.9644 - val_loss: 0.1413 - val_acc: 0.9593\n",
      "Epoch 52/200\n",
      "4s - loss: 0.1264 - acc: 0.9648 - val_loss: 0.1407 - val_acc: 0.9586\n",
      "Epoch 53/200\n",
      "5s - loss: 0.1257 - acc: 0.9649 - val_loss: 0.1402 - val_acc: 0.9594\n",
      "Epoch 54/200\n",
      "4s - loss: 0.1249 - acc: 0.9654 - val_loss: 0.1395 - val_acc: 0.9593\n",
      "Epoch 55/200\n",
      "4s - loss: 0.1242 - acc: 0.9654 - val_loss: 0.1386 - val_acc: 0.9594\n",
      "Epoch 56/200\n",
      "4s - loss: 0.1234 - acc: 0.9656 - val_loss: 0.1387 - val_acc: 0.9593\n",
      "Epoch 57/200\n",
      "5s - loss: 0.1227 - acc: 0.9658 - val_loss: 0.1384 - val_acc: 0.9598\n",
      "Epoch 58/200\n",
      "4s - loss: 0.1220 - acc: 0.9663 - val_loss: 0.1377 - val_acc: 0.9597\n",
      "Epoch 59/200\n",
      "4s - loss: 0.1213 - acc: 0.9662 - val_loss: 0.1366 - val_acc: 0.9597\n",
      "Epoch 60/200\n",
      "4s - loss: 0.1206 - acc: 0.9666 - val_loss: 0.1383 - val_acc: 0.9603\n",
      "Epoch 61/200\n",
      "4s - loss: 0.1199 - acc: 0.9669 - val_loss: 0.1362 - val_acc: 0.9606\n",
      "Epoch 62/200\n",
      "4s - loss: 0.1191 - acc: 0.9669 - val_loss: 0.1349 - val_acc: 0.9602\n",
      "Epoch 63/200\n",
      "5s - loss: 0.1185 - acc: 0.9669 - val_loss: 0.1351 - val_acc: 0.9604\n",
      "Epoch 64/200\n",
      "5s - loss: 0.1178 - acc: 0.9673 - val_loss: 0.1345 - val_acc: 0.9600\n",
      "Epoch 65/200\n",
      "4s - loss: 0.1171 - acc: 0.9674 - val_loss: 0.1338 - val_acc: 0.9609\n",
      "Epoch 66/200\n",
      "5s - loss: 0.1164 - acc: 0.9680 - val_loss: 0.1336 - val_acc: 0.9607\n",
      "Epoch 67/200\n",
      "5s - loss: 0.1158 - acc: 0.9681 - val_loss: 0.1329 - val_acc: 0.9603\n",
      "Epoch 68/200\n",
      "4s - loss: 0.1152 - acc: 0.9683 - val_loss: 0.1331 - val_acc: 0.9613\n",
      "Epoch 69/200\n",
      "5s - loss: 0.1143 - acc: 0.9687 - val_loss: 0.1324 - val_acc: 0.9606\n",
      "Epoch 70/200\n",
      "4s - loss: 0.1139 - acc: 0.9686 - val_loss: 0.1317 - val_acc: 0.9615\n",
      "Epoch 71/200\n",
      "4s - loss: 0.1131 - acc: 0.9688 - val_loss: 0.1311 - val_acc: 0.9617\n",
      "Epoch 72/200\n",
      "4s - loss: 0.1126 - acc: 0.9690 - val_loss: 0.1319 - val_acc: 0.9617\n",
      "Epoch 73/200\n",
      "4s - loss: 0.1119 - acc: 0.9694 - val_loss: 0.1307 - val_acc: 0.9611\n",
      "Epoch 74/200\n",
      "4s - loss: 0.1113 - acc: 0.9697 - val_loss: 0.1309 - val_acc: 0.9617\n",
      "Epoch 75/200\n",
      "4s - loss: 0.1107 - acc: 0.9694 - val_loss: 0.1292 - val_acc: 0.9615\n",
      "Epoch 76/200\n",
      "5s - loss: 0.1100 - acc: 0.9698 - val_loss: 0.1289 - val_acc: 0.9622\n",
      "Epoch 77/200\n",
      "4s - loss: 0.1095 - acc: 0.9700 - val_loss: 0.1290 - val_acc: 0.9620\n",
      "Epoch 78/200\n",
      "4s - loss: 0.1089 - acc: 0.9699 - val_loss: 0.1283 - val_acc: 0.9618\n",
      "Epoch 79/200\n",
      "4s - loss: 0.1083 - acc: 0.9704 - val_loss: 0.1279 - val_acc: 0.9625\n",
      "Epoch 80/200\n",
      "4s - loss: 0.1077 - acc: 0.9703 - val_loss: 0.1274 - val_acc: 0.9626\n",
      "Epoch 81/200\n",
      "4s - loss: 0.1071 - acc: 0.9705 - val_loss: 0.1274 - val_acc: 0.9633\n",
      "Epoch 82/200\n",
      "4s - loss: 0.1065 - acc: 0.9709 - val_loss: 0.1272 - val_acc: 0.9623\n",
      "Epoch 83/200\n",
      "4s - loss: 0.1060 - acc: 0.9709 - val_loss: 0.1267 - val_acc: 0.9626\n",
      "Epoch 84/200\n",
      "4s - loss: 0.1053 - acc: 0.9708 - val_loss: 0.1264 - val_acc: 0.9630\n",
      "Epoch 85/200\n",
      "4s - loss: 0.1047 - acc: 0.9710 - val_loss: 0.1266 - val_acc: 0.9632\n",
      "Epoch 86/200\n",
      "4s - loss: 0.1043 - acc: 0.9714 - val_loss: 0.1255 - val_acc: 0.9626\n",
      "Epoch 87/200\n",
      "4s - loss: 0.1036 - acc: 0.9716 - val_loss: 0.1253 - val_acc: 0.9623\n",
      "Epoch 88/200\n",
      "4s - loss: 0.1031 - acc: 0.9717 - val_loss: 0.1249 - val_acc: 0.9633\n",
      "Epoch 89/200\n",
      "4s - loss: 0.1025 - acc: 0.9718 - val_loss: 0.1242 - val_acc: 0.9636\n",
      "Epoch 90/200\n",
      "4s - loss: 0.1019 - acc: 0.9723 - val_loss: 0.1244 - val_acc: 0.9632\n",
      "Epoch 91/200\n",
      "4s - loss: 0.1015 - acc: 0.9722 - val_loss: 0.1242 - val_acc: 0.9644\n",
      "Epoch 92/200\n",
      "5s - loss: 0.1010 - acc: 0.9724 - val_loss: 0.1234 - val_acc: 0.9633\n",
      "Epoch 93/200\n",
      "4s - loss: 0.1004 - acc: 0.9725 - val_loss: 0.1230 - val_acc: 0.9643\n",
      "Epoch 94/200\n",
      "4s - loss: 0.0997 - acc: 0.9727 - val_loss: 0.1229 - val_acc: 0.9637\n",
      "Epoch 95/200\n",
      "4s - loss: 0.0992 - acc: 0.9728 - val_loss: 0.1223 - val_acc: 0.9640\n",
      "Epoch 96/200\n",
      "4s - loss: 0.0987 - acc: 0.9727 - val_loss: 0.1224 - val_acc: 0.9647\n",
      "Epoch 97/200\n",
      "5s - loss: 0.0982 - acc: 0.9733 - val_loss: 0.1221 - val_acc: 0.9643\n",
      "Epoch 98/200\n",
      "4s - loss: 0.0977 - acc: 0.9734 - val_loss: 0.1210 - val_acc: 0.9647\n",
      "Epoch 99/200\n",
      "5s - loss: 0.0972 - acc: 0.9734 - val_loss: 0.1214 - val_acc: 0.9637\n",
      "Epoch 100/200\n",
      "5s - loss: 0.0967 - acc: 0.9737 - val_loss: 0.1213 - val_acc: 0.9637\n",
      "Epoch 101/200\n"
     ]
    },
    {
     "name": "stdout",
     "output_type": "stream",
     "text": [
      "4s - loss: 0.0963 - acc: 0.9741 - val_loss: 0.1204 - val_acc: 0.9643\n",
      "Epoch 102/200\n",
      "4s - loss: 0.0957 - acc: 0.9741 - val_loss: 0.1201 - val_acc: 0.9652\n",
      "Epoch 103/200\n",
      "4s - loss: 0.0952 - acc: 0.9745 - val_loss: 0.1210 - val_acc: 0.9647\n",
      "Epoch 104/200\n",
      "5s - loss: 0.0947 - acc: 0.9742 - val_loss: 0.1201 - val_acc: 0.9656\n",
      "Epoch 105/200\n",
      "5s - loss: 0.0943 - acc: 0.9747 - val_loss: 0.1193 - val_acc: 0.9658\n",
      "Epoch 106/200\n",
      "6s - loss: 0.0938 - acc: 0.9745 - val_loss: 0.1193 - val_acc: 0.9639\n",
      "Epoch 107/200\n",
      "6s - loss: 0.0934 - acc: 0.9745 - val_loss: 0.1186 - val_acc: 0.9658\n",
      "Epoch 108/200\n",
      "5s - loss: 0.0928 - acc: 0.9746 - val_loss: 0.1186 - val_acc: 0.9659\n",
      "Epoch 109/200\n",
      "5s - loss: 0.0924 - acc: 0.9751 - val_loss: 0.1181 - val_acc: 0.9657\n",
      "Epoch 110/200\n",
      "5s - loss: 0.0918 - acc: 0.9751 - val_loss: 0.1182 - val_acc: 0.9654\n",
      "Epoch 111/200\n",
      "4s - loss: 0.0913 - acc: 0.9753 - val_loss: 0.1178 - val_acc: 0.9657\n",
      "Epoch 112/200\n",
      "5s - loss: 0.0910 - acc: 0.9754 - val_loss: 0.1175 - val_acc: 0.9654\n",
      "Epoch 113/200\n",
      "4s - loss: 0.0903 - acc: 0.9753 - val_loss: 0.1170 - val_acc: 0.9658\n",
      "Epoch 114/200\n",
      "4s - loss: 0.0899 - acc: 0.9756 - val_loss: 0.1167 - val_acc: 0.9657\n",
      "Epoch 115/200\n",
      "5s - loss: 0.0896 - acc: 0.9758 - val_loss: 0.1166 - val_acc: 0.9660\n",
      "Epoch 116/200\n",
      "4s - loss: 0.0890 - acc: 0.9759 - val_loss: 0.1161 - val_acc: 0.9664\n",
      "Epoch 117/200\n",
      "4s - loss: 0.0885 - acc: 0.9759 - val_loss: 0.1159 - val_acc: 0.9665\n",
      "Epoch 118/200\n",
      "4s - loss: 0.0881 - acc: 0.9762 - val_loss: 0.1161 - val_acc: 0.9663\n",
      "Epoch 119/200\n",
      "4s - loss: 0.0877 - acc: 0.9764 - val_loss: 0.1158 - val_acc: 0.9667\n",
      "Epoch 120/200\n",
      "4s - loss: 0.0872 - acc: 0.9766 - val_loss: 0.1153 - val_acc: 0.9661\n",
      "Epoch 121/200\n",
      "4s - loss: 0.0868 - acc: 0.9765 - val_loss: 0.1151 - val_acc: 0.9661\n",
      "Epoch 122/200\n",
      "4s - loss: 0.0863 - acc: 0.9767 - val_loss: 0.1150 - val_acc: 0.9666\n",
      "Epoch 123/200\n",
      "4s - loss: 0.0859 - acc: 0.9768 - val_loss: 0.1155 - val_acc: 0.9658\n",
      "Epoch 124/200\n",
      "4s - loss: 0.0856 - acc: 0.9769 - val_loss: 0.1146 - val_acc: 0.9667\n",
      "Epoch 125/200\n",
      "4s - loss: 0.0851 - acc: 0.9772 - val_loss: 0.1144 - val_acc: 0.9666\n",
      "Epoch 126/200\n",
      "6s - loss: 0.0847 - acc: 0.9772 - val_loss: 0.1141 - val_acc: 0.9662\n",
      "Epoch 127/200\n",
      "5s - loss: 0.0842 - acc: 0.9771 - val_loss: 0.1144 - val_acc: 0.9675\n",
      "Epoch 128/200\n",
      "4s - loss: 0.0839 - acc: 0.9772 - val_loss: 0.1141 - val_acc: 0.9669\n",
      "Epoch 129/200\n",
      "4s - loss: 0.0834 - acc: 0.9777 - val_loss: 0.1129 - val_acc: 0.9671\n",
      "Epoch 130/200\n",
      "4s - loss: 0.0830 - acc: 0.9776 - val_loss: 0.1130 - val_acc: 0.9669\n",
      "Epoch 131/200\n",
      "5s - loss: 0.0826 - acc: 0.9778 - val_loss: 0.1126 - val_acc: 0.9668\n",
      "Epoch 132/200\n",
      "5s - loss: 0.0821 - acc: 0.9777 - val_loss: 0.1129 - val_acc: 0.9667\n",
      "Epoch 133/200\n",
      "4s - loss: 0.0818 - acc: 0.9782 - val_loss: 0.1122 - val_acc: 0.9676\n",
      "Epoch 134/200\n",
      "5s - loss: 0.0815 - acc: 0.9783 - val_loss: 0.1122 - val_acc: 0.9671\n",
      "Epoch 135/200\n",
      "5s - loss: 0.0810 - acc: 0.9783 - val_loss: 0.1118 - val_acc: 0.9672\n",
      "Epoch 136/200\n",
      "5s - loss: 0.0805 - acc: 0.9785 - val_loss: 0.1116 - val_acc: 0.9673\n",
      "Epoch 137/200\n",
      "5s - loss: 0.0802 - acc: 0.9785 - val_loss: 0.1125 - val_acc: 0.9677\n",
      "Epoch 138/200\n",
      "4s - loss: 0.0798 - acc: 0.9787 - val_loss: 0.1118 - val_acc: 0.9666\n",
      "Epoch 139/200\n",
      "4s - loss: 0.0794 - acc: 0.9789 - val_loss: 0.1111 - val_acc: 0.9672\n",
      "Epoch 140/200\n",
      "4s - loss: 0.0790 - acc: 0.9790 - val_loss: 0.1110 - val_acc: 0.9677\n",
      "Epoch 141/200\n",
      "5s - loss: 0.0786 - acc: 0.9788 - val_loss: 0.1105 - val_acc: 0.9671\n",
      "Epoch 142/200\n",
      "4s - loss: 0.0783 - acc: 0.9792 - val_loss: 0.1114 - val_acc: 0.9680\n",
      "Epoch 143/200\n",
      "5s - loss: 0.0779 - acc: 0.9793 - val_loss: 0.1104 - val_acc: 0.9682\n",
      "Epoch 144/200\n",
      "5s - loss: 0.0776 - acc: 0.9793 - val_loss: 0.1105 - val_acc: 0.9679\n",
      "Epoch 145/200\n",
      "6s - loss: 0.0770 - acc: 0.9798 - val_loss: 0.1099 - val_acc: 0.9683\n",
      "Epoch 146/200\n",
      "6s - loss: 0.0768 - acc: 0.9798 - val_loss: 0.1100 - val_acc: 0.9673\n",
      "Epoch 147/200\n",
      "5s - loss: 0.0765 - acc: 0.9798 - val_loss: 0.1097 - val_acc: 0.9679\n",
      "Epoch 148/200\n",
      "5s - loss: 0.0762 - acc: 0.9796 - val_loss: 0.1094 - val_acc: 0.9677\n",
      "Epoch 149/200\n",
      "5s - loss: 0.0756 - acc: 0.9802 - val_loss: 0.1091 - val_acc: 0.9679\n",
      "Epoch 150/200\n",
      "5s - loss: 0.0753 - acc: 0.9801 - val_loss: 0.1097 - val_acc: 0.9674\n",
      "Epoch 151/200\n",
      "5s - loss: 0.0749 - acc: 0.9800 - val_loss: 0.1098 - val_acc: 0.9682\n",
      "Epoch 152/200\n",
      "5s - loss: 0.0746 - acc: 0.9805 - val_loss: 0.1091 - val_acc: 0.9683\n",
      "Epoch 153/200\n",
      "7s - loss: 0.0741 - acc: 0.9808 - val_loss: 0.1090 - val_acc: 0.9685\n",
      "Epoch 154/200\n",
      "6s - loss: 0.0738 - acc: 0.9807 - val_loss: 0.1082 - val_acc: 0.9684\n",
      "Epoch 155/200\n",
      "6s - loss: 0.0734 - acc: 0.9807 - val_loss: 0.1084 - val_acc: 0.9688\n",
      "Epoch 156/200\n",
      "4s - loss: 0.0731 - acc: 0.9810 - val_loss: 0.1081 - val_acc: 0.9690\n",
      "Epoch 157/200\n",
      "4s - loss: 0.0729 - acc: 0.9806 - val_loss: 0.1079 - val_acc: 0.9688\n",
      "Epoch 158/200\n",
      "4s - loss: 0.0725 - acc: 0.9813 - val_loss: 0.1094 - val_acc: 0.9686\n",
      "Epoch 159/200\n",
      "4s - loss: 0.0721 - acc: 0.9812 - val_loss: 0.1081 - val_acc: 0.9687\n",
      "Epoch 160/200\n",
      "4s - loss: 0.0718 - acc: 0.9809 - val_loss: 0.1071 - val_acc: 0.9689\n",
      "Epoch 161/200\n",
      "6s - loss: 0.0713 - acc: 0.9815 - val_loss: 0.1073 - val_acc: 0.9690\n",
      "Epoch 162/200\n",
      "6s - loss: 0.0711 - acc: 0.9814 - val_loss: 0.1073 - val_acc: 0.9688\n",
      "Epoch 163/200\n",
      "6s - loss: 0.0707 - acc: 0.9815 - val_loss: 0.1066 - val_acc: 0.9688\n",
      "Epoch 164/200\n",
      "6s - loss: 0.0703 - acc: 0.9817 - val_loss: 0.1065 - val_acc: 0.9690\n",
      "Epoch 165/200\n",
      "5s - loss: 0.0700 - acc: 0.9815 - val_loss: 0.1071 - val_acc: 0.9687\n",
      "Epoch 166/200\n",
      "4s - loss: 0.0697 - acc: 0.9816 - val_loss: 0.1068 - val_acc: 0.9691\n",
      "Epoch 167/200\n",
      "5s - loss: 0.0695 - acc: 0.9819 - val_loss: 0.1067 - val_acc: 0.9686\n",
      "Epoch 168/200\n",
      "5s - loss: 0.0690 - acc: 0.9823 - val_loss: 0.1058 - val_acc: 0.9693\n",
      "Epoch 169/200\n",
      "5s - loss: 0.0689 - acc: 0.9820 - val_loss: 0.1060 - val_acc: 0.9687\n",
      "Epoch 170/200\n",
      "4s - loss: 0.0683 - acc: 0.9822 - val_loss: 0.1069 - val_acc: 0.9693\n",
      "Epoch 171/200\n",
      "5s - loss: 0.0681 - acc: 0.9823 - val_loss: 0.1059 - val_acc: 0.9696\n",
      "Epoch 172/200\n",
      "5s - loss: 0.0677 - acc: 0.9823 - val_loss: 0.1065 - val_acc: 0.9695\n",
      "Epoch 173/200\n",
      "4s - loss: 0.0675 - acc: 0.9821 - val_loss: 0.1051 - val_acc: 0.9692\n",
      "Epoch 174/200\n",
      "4s - loss: 0.0671 - acc: 0.9825 - val_loss: 0.1068 - val_acc: 0.9693\n",
      "Epoch 175/200\n",
      "4s - loss: 0.0669 - acc: 0.9824 - val_loss: 0.1052 - val_acc: 0.9701\n",
      "Epoch 176/200\n",
      "4s - loss: 0.0665 - acc: 0.9829 - val_loss: 0.1053 - val_acc: 0.9699\n",
      "Epoch 177/200\n",
      "4s - loss: 0.0662 - acc: 0.9827 - val_loss: 0.1053 - val_acc: 0.9691\n",
      "Epoch 178/200\n",
      "4s - loss: 0.0660 - acc: 0.9831 - val_loss: 0.1045 - val_acc: 0.9696\n",
      "Epoch 179/200\n",
      "4s - loss: 0.0656 - acc: 0.9834 - val_loss: 0.1045 - val_acc: 0.9696\n",
      "Epoch 180/200\n",
      "4s - loss: 0.0653 - acc: 0.9832 - val_loss: 0.1047 - val_acc: 0.9696\n",
      "Epoch 181/200\n",
      "4s - loss: 0.0650 - acc: 0.9834 - val_loss: 0.1049 - val_acc: 0.9703\n",
      "Epoch 182/200\n",
      "4s - loss: 0.0646 - acc: 0.9833 - val_loss: 0.1046 - val_acc: 0.9701\n",
      "Epoch 183/200\n",
      "4s - loss: 0.0643 - acc: 0.9832 - val_loss: 0.1038 - val_acc: 0.9698\n",
      "Epoch 184/200\n",
      "4s - loss: 0.0641 - acc: 0.9834 - val_loss: 0.1035 - val_acc: 0.9700\n",
      "Epoch 185/200\n",
      "4s - loss: 0.0637 - acc: 0.9836 - val_loss: 0.1037 - val_acc: 0.9698\n",
      "Epoch 186/200\n",
      "4s - loss: 0.0635 - acc: 0.9838 - val_loss: 0.1040 - val_acc: 0.9698\n",
      "Epoch 187/200\n",
      "4s - loss: 0.0632 - acc: 0.9837 - val_loss: 0.1037 - val_acc: 0.9696\n",
      "Epoch 188/200\n",
      "4s - loss: 0.0628 - acc: 0.9839 - val_loss: 0.1030 - val_acc: 0.9693\n",
      "Epoch 189/200\n",
      "4s - loss: 0.0626 - acc: 0.9841 - val_loss: 0.1035 - val_acc: 0.9700\n",
      "Epoch 190/200\n",
      "4s - loss: 0.0624 - acc: 0.9840 - val_loss: 0.1033 - val_acc: 0.9702\n",
      "Epoch 191/200\n",
      "4s - loss: 0.0620 - acc: 0.9841 - val_loss: 0.1027 - val_acc: 0.9699\n",
      "Epoch 192/200\n",
      "4s - loss: 0.0617 - acc: 0.9842 - val_loss: 0.1032 - val_acc: 0.9700\n",
      "Epoch 193/200\n",
      "4s - loss: 0.0614 - acc: 0.9842 - val_loss: 0.1024 - val_acc: 0.9704\n",
      "Epoch 194/200\n",
      "4s - loss: 0.0611 - acc: 0.9844 - val_loss: 0.1027 - val_acc: 0.9698\n",
      "Epoch 195/200\n",
      "4s - loss: 0.0608 - acc: 0.9845 - val_loss: 0.1025 - val_acc: 0.9704\n",
      "Epoch 196/200\n",
      "4s - loss: 0.0606 - acc: 0.9846 - val_loss: 0.1031 - val_acc: 0.9702\n",
      "Epoch 197/200\n",
      "4s - loss: 0.0603 - acc: 0.9849 - val_loss: 0.1025 - val_acc: 0.9707\n",
      "Epoch 198/200\n",
      "4s - loss: 0.0600 - acc: 0.9850 - val_loss: 0.1028 - val_acc: 0.9695\n",
      "Epoch 199/200\n",
      "4s - loss: 0.0598 - acc: 0.9848 - val_loss: 0.1024 - val_acc: 0.9706\n",
      "Epoch 200/200\n"
     ]
    },
    {
     "name": "stdout",
     "output_type": "stream",
     "text": [
      "4s - loss: 0.0595 - acc: 0.9851 - val_loss: 0.1023 - val_acc: 0.9711\n"
     ]
    }
   ],
   "source": [
    "history = model.fit(x_train, y_train_enc,\n",
    "              batch_size=32, epochs=200,\n",
    "              verbose=2,\n",
    "              validation_split=0.2,\n",
    "              shuffle=True)"
   ]
  },
  {
   "cell_type": "code",
   "execution_count": 20,
   "metadata": {},
   "outputs": [
    {
     "data": {
      "image/png": "[encoded data removed]",
      "text/plain": [
       "<matplotlib.figure.Figure at 0x7f9fd63fc048>"
      ]
     },
     "metadata": {},
     "output_type": "display_data"
    }
   ],
   "source": [
    "plt.plot(history.history['acc'],'r')\n",
    "plt.plot(history.history['val_acc'],'b')\n",
    "plt.ylabel('Accuracy %')\n",
    "plt.xlabel('Training iterations (epochs)')\n",
    "plt.legend(['Training','Testing'], loc='upper left')\n",
    "plt.show()"
   ]
  },
  {
   "cell_type": "code",
   "execution_count": 21,
   "metadata": {},
   "outputs": [
    {
     "data": {
      "image/png": "[encoded data removed]",
      "text/plain": [
       "<matplotlib.figure.Figure at 0x7f9fd6316e80>"
      ]
     },
     "metadata": {},
     "output_type": "display_data"
    }
   ],
   "source": [
    "plt.plot(history.history['loss'],'r')\n",
    "plt.plot(history.history['val_loss'],'b')\n",
    "plt.ylabel('Loss %')\n",
    "plt.xlabel('Training iterations (epochs)')\n",
    "plt.legend(['Training','Testing'], loc='upper left')\n",
    "plt.show()"
   ]
  },
  {
   "cell_type": "markdown",
   "metadata": {},
   "source": [
    "## Evaluer son modèle"
   ]
  },
  {
   "cell_type": "code",
   "execution_count": 12,
   "metadata": {},
   "outputs": [
    {
     "name": "stdout",
     "output_type": "stream",
     "text": [
      " 8992/10000 [=========================>....] - ETA: 0s\n",
      "[loss, accuracy] : [0.25024286168217658, 0.92700000000000005]\n"
     ]
    }
   ],
   "source": [
    "res = model.evaluate(x_test, y_test_enc)\n",
    "print(\"\\n[loss, accuracy] : {}\".format(res))"
   ]
  },
  {
   "cell_type": "code",
   "execution_count": 13,
   "metadata": {
    "collapsed": true
   },
   "outputs": [],
   "source": [
    "model.save(\"models/model_deep_NN.h5\")"
   ]
  },
  {
   "cell_type": "code",
   "execution_count": null,
   "metadata": {
    "collapsed": true
   },
   "outputs": [],
   "source": []
  }
 ],
 "metadata": {
  "kernelspec": {
   "display_name": "Python 3",
   "language": "python",
   "name": "python3"
  },
  "language_info": {
   "codemirror_mode": {
    "name": "ipython",
    "version": 3
   },
   "file_extension": ".py",
   "mimetype": "text/x-python",
   "name": "python",
   "nbconvert_exporter": "python",
   "pygments_lexer": "ipython3",
   "version": "3.5.2"
  },
  "widgets": {
   "state": {},
   "version": "1.1.2"
  }
 },
 "nbformat": 4,
 "nbformat_minor": 2
}
