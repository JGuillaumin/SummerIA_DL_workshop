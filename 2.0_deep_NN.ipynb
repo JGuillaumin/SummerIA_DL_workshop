{
 "cells": [
  {
   "cell_type": "code",
   "execution_count": 1,
   "metadata": {},
   "outputs": [
    {
     "name": "stderr",
     "output_type": "stream",
     "text": [
      "Using TensorFlow backend.\n"
     ]
    },
    {
     "name": "stdout",
     "output_type": "stream",
     "text": [
      "Keras : 2.0.6\n"
     ]
    }
   ],
   "source": [
    "import numpy as np\n",
    "import keras\n",
    "import utils\n",
    "\n",
    "import matplotlib.pyplot as plt\n",
    "\n",
    "print(\"Keras : {}\".format(keras.__version__))\n",
    "%matplotlib inline "
   ]
  },
  {
   "cell_type": "markdown",
   "metadata": {},
   "source": [
    "## Importer et pré-traitement des données"
   ]
  },
  {
   "cell_type": "code",
   "execution_count": 2,
   "metadata": {
    "collapsed": true
   },
   "outputs": [],
   "source": [
    "(x_train, y_train), (x_test, y_test) = utils.load_mnist(path=\"mnist/\")\n",
    "\n",
    "x_train = x_train.astype('float32')\n",
    "x_test = x_test.astype('float32')\n",
    "\n",
    "x_train = x_train/255.\n",
    "x_test = x_test/255.\n",
    "\n",
    "x_train = x_train.reshape([-1, 28*28])\n",
    "x_test = x_test.reshape([-1, 28*28])"
   ]
  },
  {
   "cell_type": "code",
   "execution_count": 3,
   "metadata": {
    "collapsed": true
   },
   "outputs": [],
   "source": [
    "from keras.utils.np_utils import to_categorical\n",
    "y_train_enc = to_categorical(y_train, num_classes=10)\n",
    "y_test_enc = to_categorical(y_test, num_classes=10)"
   ]
  },
  {
   "cell_type": "markdown",
   "metadata": {},
   "source": [
    "## Construction du réseau de neurones"
   ]
  },
  {
   "cell_type": "code",
   "execution_count": 4,
   "metadata": {
    "collapsed": true
   },
   "outputs": [],
   "source": [
    "from keras.models import Sequential\n",
    "from keras.layers import Dense, InputLayer"
   ]
  },
  {
   "cell_type": "markdown",
   "metadata": {},
   "source": [
    "model = Sequential()\n",
    "model.add(Dense(128, input_shape=(784,), activation=\"sigmoid\"))\n",
    "model.add(Dense(32, activation=\"sigmoid\"))\n",
    "model.add(Dense(10, activation=\"softmax\"))"
   ]
  },
  {
   "cell_type": "markdown",
   "metadata": {},
   "source": [
    "## Apprentissage du réseau de neurones"
   ]
  },
  {
   "cell_type": "code",
   "execution_count": 10,
   "metadata": {
    "collapsed": true
   },
   "outputs": [],
   "source": [
    "from keras.optimizers import SGD"
   ]
  },
  {
   "cell_type": "code",
   "execution_count": 11,
   "metadata": {
    "collapsed": true
   },
   "outputs": [],
   "source": [
    "sgd = SGD(lr=0.001, momentum=0.9)"
   ]
  },
  {
   "cell_type": "code",
   "execution_count": 12,
   "metadata": {
    "collapsed": true
   },
   "outputs": [],
   "source": [
    "model.compile(optimizer=sgd,\n",
    "              loss='categorical_crossentropy',\n",
    "              metrics=['accuracy'])"
   ]
  },
  {
   "cell_type": "code",
   "execution_count": 13,
   "metadata": {
    "scrolled": true
   },
   "outputs": [
    {
     "name": "stdout",
     "output_type": "stream",
     "text": [
      "Train on 48000 samples, validate on 12000 samples\n",
      "Epoch 1/50\n",
      "3s - loss: 0.4587 - acc: 0.8752 - val_loss: 0.4295 - val_acc: 0.8854\n",
      "Epoch 2/50\n",
      "3s - loss: 0.4370 - acc: 0.8806 - val_loss: 0.4099 - val_acc: 0.8892\n",
      "Epoch 3/50\n",
      "3s - loss: 0.4183 - acc: 0.8857 - val_loss: 0.3932 - val_acc: 0.8923\n",
      "Epoch 4/50\n",
      "3s - loss: 0.4021 - acc: 0.8888 - val_loss: 0.3784 - val_acc: 0.8962\n",
      "Epoch 5/50\n",
      "3s - loss: 0.3878 - acc: 0.8924 - val_loss: 0.3664 - val_acc: 0.8972\n",
      "Epoch 6/50\n",
      "3s - loss: 0.3754 - acc: 0.8949 - val_loss: 0.3545 - val_acc: 0.9017\n",
      "Epoch 7/50\n",
      "3s - loss: 0.3643 - acc: 0.8983 - val_loss: 0.3441 - val_acc: 0.9027\n",
      "Epoch 8/50\n",
      "3s - loss: 0.3542 - acc: 0.9003 - val_loss: 0.3354 - val_acc: 0.9058\n",
      "Epoch 9/50\n",
      "3s - loss: 0.3454 - acc: 0.9027 - val_loss: 0.3273 - val_acc: 0.9079\n",
      "Epoch 10/50\n",
      "2s - loss: 0.3371 - acc: 0.9049 - val_loss: 0.3202 - val_acc: 0.9105\n",
      "Epoch 11/50\n",
      "3s - loss: 0.3296 - acc: 0.9065 - val_loss: 0.3133 - val_acc: 0.9116\n",
      "Epoch 12/50\n",
      "3s - loss: 0.3229 - acc: 0.9080 - val_loss: 0.3075 - val_acc: 0.9130\n",
      "Epoch 13/50\n",
      "3s - loss: 0.3165 - acc: 0.9099 - val_loss: 0.3012 - val_acc: 0.9163\n",
      "Epoch 14/50\n",
      "3s - loss: 0.3105 - acc: 0.9109 - val_loss: 0.2958 - val_acc: 0.9164\n",
      "Epoch 15/50\n",
      "3s - loss: 0.3048 - acc: 0.9121 - val_loss: 0.2910 - val_acc: 0.9193\n",
      "Epoch 16/50\n",
      "3s - loss: 0.2995 - acc: 0.9136 - val_loss: 0.2870 - val_acc: 0.9203\n",
      "Epoch 17/50\n",
      "3s - loss: 0.2945 - acc: 0.9152 - val_loss: 0.2819 - val_acc: 0.9218\n",
      "Epoch 18/50\n",
      "3s - loss: 0.2895 - acc: 0.9169 - val_loss: 0.2777 - val_acc: 0.9233\n",
      "Epoch 19/50\n",
      "3s - loss: 0.2850 - acc: 0.9179 - val_loss: 0.2736 - val_acc: 0.9238\n",
      "Epoch 20/50\n",
      "3s - loss: 0.2805 - acc: 0.9189 - val_loss: 0.2699 - val_acc: 0.9247\n",
      "Epoch 21/50\n",
      "3s - loss: 0.2762 - acc: 0.9205 - val_loss: 0.2657 - val_acc: 0.9254\n",
      "Epoch 22/50\n",
      "3s - loss: 0.2718 - acc: 0.9217 - val_loss: 0.2619 - val_acc: 0.9260\n",
      "Epoch 23/50\n",
      "3s - loss: 0.2678 - acc: 0.9223 - val_loss: 0.2593 - val_acc: 0.9267\n",
      "Epoch 24/50\n",
      "3s - loss: 0.2640 - acc: 0.9236 - val_loss: 0.2546 - val_acc: 0.9273\n",
      "Epoch 25/50\n",
      "3s - loss: 0.2600 - acc: 0.9245 - val_loss: 0.2520 - val_acc: 0.9279\n",
      "Epoch 26/50\n",
      "3s - loss: 0.2564 - acc: 0.9258 - val_loss: 0.2479 - val_acc: 0.9297\n",
      "Epoch 27/50\n",
      "4s - loss: 0.2527 - acc: 0.9266 - val_loss: 0.2452 - val_acc: 0.9294\n",
      "Epoch 28/50\n",
      "3s - loss: 0.2492 - acc: 0.9282 - val_loss: 0.2419 - val_acc: 0.9309\n",
      "Epoch 29/50\n",
      "3s - loss: 0.2456 - acc: 0.9292 - val_loss: 0.2387 - val_acc: 0.9316\n",
      "Epoch 30/50\n",
      "3s - loss: 0.2422 - acc: 0.9297 - val_loss: 0.2354 - val_acc: 0.9335\n",
      "Epoch 31/50\n",
      "3s - loss: 0.2389 - acc: 0.9309 - val_loss: 0.2327 - val_acc: 0.9325\n",
      "Epoch 32/50\n",
      "3s - loss: 0.2355 - acc: 0.9321 - val_loss: 0.2296 - val_acc: 0.9337\n",
      "Epoch 33/50\n",
      "3s - loss: 0.2324 - acc: 0.9330 - val_loss: 0.2271 - val_acc: 0.9360\n",
      "Epoch 34/50\n",
      "3s - loss: 0.2290 - acc: 0.9342 - val_loss: 0.2241 - val_acc: 0.9356\n",
      "Epoch 35/50\n",
      "3s - loss: 0.2260 - acc: 0.9349 - val_loss: 0.2218 - val_acc: 0.9367\n",
      "Epoch 36/50\n",
      "2s - loss: 0.2229 - acc: 0.9359 - val_loss: 0.2187 - val_acc: 0.9377\n",
      "Epoch 37/50\n",
      "2s - loss: 0.2200 - acc: 0.9370 - val_loss: 0.2167 - val_acc: 0.9383\n",
      "Epoch 38/50\n",
      "3s - loss: 0.2171 - acc: 0.9377 - val_loss: 0.2137 - val_acc: 0.9392\n",
      "Epoch 39/50\n",
      "3s - loss: 0.2142 - acc: 0.9383 - val_loss: 0.2112 - val_acc: 0.9397\n",
      "Epoch 40/50\n",
      "3s - loss: 0.2114 - acc: 0.9390 - val_loss: 0.2092 - val_acc: 0.9413\n",
      "Epoch 41/50\n",
      "3s - loss: 0.2086 - acc: 0.9399 - val_loss: 0.2063 - val_acc: 0.9414\n",
      "Epoch 42/50\n",
      "3s - loss: 0.2059 - acc: 0.9406 - val_loss: 0.2043 - val_acc: 0.9423\n",
      "Epoch 43/50\n",
      "3s - loss: 0.2033 - acc: 0.9411 - val_loss: 0.2022 - val_acc: 0.9423\n",
      "Epoch 44/50\n",
      "3s - loss: 0.2007 - acc: 0.9420 - val_loss: 0.1997 - val_acc: 0.9433\n",
      "Epoch 45/50\n",
      "3s - loss: 0.1980 - acc: 0.9427 - val_loss: 0.1979 - val_acc: 0.9438\n",
      "Epoch 46/50\n",
      "2s - loss: 0.1958 - acc: 0.9436 - val_loss: 0.1958 - val_acc: 0.9437\n",
      "Epoch 47/50\n",
      "2s - loss: 0.1933 - acc: 0.9440 - val_loss: 0.1938 - val_acc: 0.9453\n",
      "Epoch 48/50\n",
      "3s - loss: 0.1910 - acc: 0.9448 - val_loss: 0.1916 - val_acc: 0.9455\n",
      "Epoch 49/50\n",
      "2s - loss: 0.1886 - acc: 0.9456 - val_loss: 0.1900 - val_acc: 0.9462\n",
      "Epoch 50/50\n",
      "3s - loss: 0.1862 - acc: 0.9464 - val_loss: 0.1877 - val_acc: 0.9473\n"
     ]
    }
   ],
   "source": [
    "history = model.fit(x_train, y_train_enc,\n",
    "              batch_size=32, epochs=50,\n",
    "              verbose=2,\n",
    "              validation_split=0.2,\n",
    "              shuffle=True)"
   ]
  },
  {
   "cell_type": "code",
   "execution_count": 14,
   "metadata": {},
   "outputs": [
    {
     "data": {
      "image/png": "[encoded data removed]",
      "text/plain": [
       "<matplotlib.figure.Figure at 0x7faab9ea3a58>"
      ]
     },
     "metadata": {},
     "output_type": "display_data"
    }
   ],
   "source": [
    "plt.plot(history.history['acc'],'r')\n",
    "plt.plot(history.history['val_acc'],'b')\n",
    "plt.ylabel('Accuracy %')\n",
    "plt.xlabel('Training iterations (epochs)')\n",
    "plt.legend(['Training','Testing'], loc='upper left')\n",
    "plt.show()"
   ]
  },
  {
   "cell_type": "markdown",
   "metadata": {},
   "source": [
    "## Evaluer son modèle"
   ]
  },
  {
   "cell_type": "code",
   "execution_count": 15,
   "metadata": {},
   "outputs": [
    {
     "name": "stdout",
     "output_type": "stream",
     "text": [
      " 8672/10000 [=========================>....] - ETA: 0s\n",
      "[loss, accuracy] : [0.18945117090344429, 0.94540000000000002]\n"
     ]
    }
   ],
   "source": [
    "res = model.evaluate(x_test, y_test_enc)\n",
    "print(\"\\n[loss, accuracy] : {}\".format(res))"
   ]
  },
  {
   "cell_type": "code",
   "execution_count": 16,
   "metadata": {
    "collapsed": true
   },
   "outputs": [],
   "source": [
    "model.save(\"model_2.h5\")"
   ]
  },
  {
   "cell_type": "code",
   "execution_count": null,
   "metadata": {
    "collapsed": true
   },
   "outputs": [],
   "source": []
  }
 ],
 "metadata": {
  "kernelspec": {
   "display_name": "Python 3",
   "language": "python",
   "name": "python3"
  },
  "language_info": {
   "codemirror_mode": {
    "name": "ipython",
    "version": 3
   },
   "file_extension": ".py",
   "mimetype": "text/x-python",
   "name": "python",
   "nbconvert_exporter": "python",
   "pygments_lexer": "ipython3",
   "version": "3.5.2"
  },
  "widgets": {
   "state": {},
   "version": "1.1.2"
  }
 },
 "nbformat": 4,
 "nbformat_minor": 2
}
