{
 "cells": [
  {
   "cell_type": "code",
   "execution_count": 1,
   "metadata": {},
   "outputs": [
    {
     "name": "stderr",
     "output_type": "stream",
     "text": [
      "Using TensorFlow backend.\n"
     ]
    },
    {
     "name": "stdout",
     "output_type": "stream",
     "text": [
      "Keras : 2.0.6\n"
     ]
    }
   ],
   "source": [
    "import numpy as np\n",
    "import keras\n",
    "import utils\n",
    "\n",
    "import matplotlib.pyplot as plt\n",
    "\n",
    "print(\"Keras : {}\".format(keras.__version__))\n",
    "%matplotlib inline "
   ]
  },
  {
   "cell_type": "markdown",
   "metadata": {},
   "source": [
    "## Importer et pré-traitement des données"
   ]
  },
  {
   "cell_type": "code",
   "execution_count": 17,
   "metadata": {},
   "outputs": [
    {
     "name": "stdout",
     "output_type": "stream",
     "text": [
      "x_train.shape : (60000, 28, 28)\n",
      "x_train.shape : (60000, 28, 28, 1)\n"
     ]
    }
   ],
   "source": [
    "(x_train, y_train), (x_test, y_test) = utils.load_mnist(path=\"mnist/\")\n",
    "\n",
    "x_train = x_train.astype('float32')\n",
    "x_test = x_test.astype('float32')\n",
    "\n",
    "x_train = x_train/255.\n",
    "x_test = x_test/255.\n",
    "\n",
    "print(\"x_train.shape : {}\".format(x_train.shape))\n",
    "x_train = np.expand_dims(x_train, axis=-1)\n",
    "x_test = np.expand_dims(x_test, axis=-1)\n",
    "print(\"x_train.shape : {}\".format(x_train.shape))"
   ]
  },
  {
   "cell_type": "code",
   "execution_count": 18,
   "metadata": {
    "collapsed": true
   },
   "outputs": [],
   "source": [
    "from keras.utils.np_utils import to_categorical\n",
    "y_train_enc = to_categorical(y_train, num_classes=10)\n",
    "y_test_enc = to_categorical(y_test, num_classes=10)"
   ]
  },
  {
   "cell_type": "markdown",
   "metadata": {},
   "source": [
    "## Construction du réseau de neurones"
   ]
  },
  {
   "cell_type": "code",
   "execution_count": 19,
   "metadata": {
    "collapsed": true
   },
   "outputs": [],
   "source": [
    "# Point de départ\n",
    "from keras.models import Sequential\n",
    "# Couches nécessaires\n",
    "from keras.layers import Dense, Flatten, Conv2D, MaxPooling2D"
   ]
  },
  {
   "cell_type": "code",
   "execution_count": 20,
   "metadata": {},
   "outputs": [],
   "source": [
    "model = Sequential()\n",
    "\n",
    "model.add(Conv2D(6, 5, input_shape=(28,28,1), activation='sigmoid', padding='valid'))\n",
    "model.add(MaxPooling2D(pool_size=(2,2), strides=(2,2)))\n",
    "model.add(Conv2D(6, 5, activation='sigmoid', padding='valid'))\n",
    "model.add(MaxPooling2D(pool_size=(2, 2), strides=(2,2)))\n",
    "model.add(Flatten())\n",
    "model.add(Dense(120, activation='sigmoid'))\n",
    "model.add(Dense(84, activation='sigmoid'))\n",
    "model.add(Dense(10, activation='softmax'))"
   ]
  },
  {
   "cell_type": "code",
   "execution_count": 21,
   "metadata": {},
   "outputs": [
    {
     "name": "stdout",
     "output_type": "stream",
     "text": [
      "_________________________________________________________________\n",
      "Layer (type)                 Output Shape              Param #   \n",
      "=================================================================\n",
      "conv2d_3 (Conv2D)            (None, 24, 24, 6)         156       \n",
      "_________________________________________________________________\n",
      "max_pooling2d_3 (MaxPooling2 (None, 12, 12, 6)         0         \n",
      "_________________________________________________________________\n",
      "conv2d_4 (Conv2D)            (None, 8, 8, 6)           906       \n",
      "_________________________________________________________________\n",
      "max_pooling2d_4 (MaxPooling2 (None, 4, 4, 6)           0         \n",
      "_________________________________________________________________\n",
      "flatten_2 (Flatten)          (None, 96)                0         \n",
      "_________________________________________________________________\n",
      "dense_4 (Dense)              (None, 120)               11640     \n",
      "_________________________________________________________________\n",
      "dense_5 (Dense)              (None, 84)                10164     \n",
      "_________________________________________________________________\n",
      "dense_6 (Dense)              (None, 10)                850       \n",
      "=================================================================\n",
      "Total params: 23,716\n",
      "Trainable params: 23,716\n",
      "Non-trainable params: 0\n",
      "_________________________________________________________________\n"
     ]
    }
   ],
   "source": [
    "model.summary()"
   ]
  },
  {
   "cell_type": "code",
   "execution_count": 22,
   "metadata": {},
   "outputs": [],
   "source": [
    "from keras.utils import plot_model\n",
    "plot_model(model, to_file='model.png')"
   ]
  },
  {
   "cell_type": "markdown",
   "metadata": {},
   "source": [
    "## Apprentissage du réseau de neurones"
   ]
  },
  {
   "cell_type": "code",
   "execution_count": 26,
   "metadata": {
    "collapsed": true
   },
   "outputs": [],
   "source": [
    "from keras.optimizers import SGD\n",
    "sgd = SGD(lr=0.01, momentum=0.9)"
   ]
  },
  {
   "cell_type": "code",
   "execution_count": 27,
   "metadata": {
    "collapsed": true
   },
   "outputs": [],
   "source": [
    "model.compile(optimizer=sgd,\n",
    "              loss='categorical_crossentropy',\n",
    "              metrics=['accuracy'])"
   ]
  },
  {
   "cell_type": "code",
   "execution_count": 28,
   "metadata": {
    "scrolled": true
   },
   "outputs": [
    {
     "name": "stdout",
     "output_type": "stream",
     "text": [
      "Train on 48000 samples, validate on 12000 samples\n",
      "Epoch 1/50\n",
      "17s - loss: 2.3134 - acc: 0.1056 - val_loss: 2.3135 - val_acc: 0.1081\n",
      "Epoch 2/50\n",
      "18s - loss: 2.3036 - acc: 0.1105 - val_loss: 2.2904 - val_acc: 0.2054\n",
      "Epoch 3/50\n",
      "18s - loss: 1.8039 - acc: 0.3852 - val_loss: 0.9167 - val_acc: 0.7198\n",
      "Epoch 4/50\n",
      "19s - loss: 0.5513 - acc: 0.8348 - val_loss: 0.3341 - val_acc: 0.9037\n",
      "Epoch 5/50\n",
      "21s - loss: 0.2860 - acc: 0.9168 - val_loss: 0.2153 - val_acc: 0.9358\n",
      "Epoch 6/50\n",
      "18s - loss: 0.2106 - acc: 0.9386 - val_loss: 0.1712 - val_acc: 0.9485\n",
      "Epoch 7/50\n",
      "17s - loss: 0.1730 - acc: 0.9482 - val_loss: 0.1398 - val_acc: 0.9577\n",
      "Epoch 8/50\n",
      "17s - loss: 0.1500 - acc: 0.9544 - val_loss: 0.1282 - val_acc: 0.9615\n",
      "Epoch 9/50\n",
      "17s - loss: 0.1324 - acc: 0.9598 - val_loss: 0.1150 - val_acc: 0.9644\n",
      "Epoch 10/50\n",
      "17s - loss: 0.1212 - acc: 0.9629 - val_loss: 0.1057 - val_acc: 0.9684\n",
      "Epoch 11/50\n",
      "17s - loss: 0.1099 - acc: 0.9667 - val_loss: 0.0945 - val_acc: 0.9708\n",
      "Epoch 12/50\n",
      "17s - loss: 0.1018 - acc: 0.9692 - val_loss: 0.0904 - val_acc: 0.9731\n",
      "Epoch 13/50\n",
      "17s - loss: 0.0960 - acc: 0.9703 - val_loss: 0.0862 - val_acc: 0.9725\n",
      "Epoch 14/50\n",
      "19s - loss: 0.0896 - acc: 0.9725 - val_loss: 0.0878 - val_acc: 0.9738\n",
      "Epoch 15/50\n",
      "17s - loss: 0.0848 - acc: 0.9738 - val_loss: 0.0766 - val_acc: 0.9760\n",
      "Epoch 16/50\n",
      "17s - loss: 0.0805 - acc: 0.9749 - val_loss: 0.0747 - val_acc: 0.9761\n",
      "Epoch 17/50\n",
      "17s - loss: 0.0772 - acc: 0.9760 - val_loss: 0.0740 - val_acc: 0.9772\n",
      "Epoch 18/50\n",
      "17s - loss: 0.0739 - acc: 0.9769 - val_loss: 0.0746 - val_acc: 0.9764\n",
      "Epoch 19/50\n",
      "17s - loss: 0.0708 - acc: 0.9779 - val_loss: 0.0697 - val_acc: 0.9782\n",
      "Epoch 20/50\n",
      "17s - loss: 0.0681 - acc: 0.9787 - val_loss: 0.0685 - val_acc: 0.9787\n",
      "Epoch 21/50\n",
      "17s - loss: 0.0652 - acc: 0.9801 - val_loss: 0.0666 - val_acc: 0.9791\n",
      "Epoch 22/50\n",
      "17s - loss: 0.0638 - acc: 0.9801 - val_loss: 0.0704 - val_acc: 0.9780\n",
      "Epoch 23/50\n",
      "17s - loss: 0.0610 - acc: 0.9810 - val_loss: 0.0657 - val_acc: 0.9797\n",
      "Epoch 24/50\n",
      "17s - loss: 0.0602 - acc: 0.9813 - val_loss: 0.0731 - val_acc: 0.9769\n",
      "Epoch 25/50\n",
      "17s - loss: 0.0578 - acc: 0.9819 - val_loss: 0.0627 - val_acc: 0.9806\n",
      "Epoch 26/50\n",
      "17s - loss: 0.0566 - acc: 0.9819 - val_loss: 0.0610 - val_acc: 0.9808\n",
      "Epoch 27/50\n",
      "17s - loss: 0.0541 - acc: 0.9835 - val_loss: 0.0604 - val_acc: 0.9819\n",
      "Epoch 28/50\n",
      "17s - loss: 0.0537 - acc: 0.9831 - val_loss: 0.0644 - val_acc: 0.9799\n",
      "Epoch 29/50\n",
      "18s - loss: 0.0520 - acc: 0.9838 - val_loss: 0.0611 - val_acc: 0.9812\n",
      "Epoch 30/50\n",
      "17s - loss: 0.0502 - acc: 0.9848 - val_loss: 0.0580 - val_acc: 0.9819\n",
      "Epoch 31/50\n",
      "17s - loss: 0.0491 - acc: 0.9848 - val_loss: 0.0587 - val_acc: 0.9819\n",
      "Epoch 32/50\n",
      "17s - loss: 0.0488 - acc: 0.9845 - val_loss: 0.0598 - val_acc: 0.9815\n",
      "Epoch 33/50\n",
      "17s - loss: 0.0470 - acc: 0.9851 - val_loss: 0.0639 - val_acc: 0.9792\n",
      "Epoch 34/50\n",
      "17s - loss: 0.0462 - acc: 0.9853 - val_loss: 0.0724 - val_acc: 0.9781\n",
      "Epoch 35/50\n",
      "17s - loss: 0.0460 - acc: 0.9859 - val_loss: 0.0575 - val_acc: 0.9815\n",
      "Epoch 36/50\n",
      "16s - loss: 0.0453 - acc: 0.9857 - val_loss: 0.0570 - val_acc: 0.9823\n",
      "Epoch 37/50\n",
      "16s - loss: 0.0439 - acc: 0.9860 - val_loss: 0.0595 - val_acc: 0.9822\n",
      "Epoch 38/50\n",
      "16s - loss: 0.0430 - acc: 0.9863 - val_loss: 0.0625 - val_acc: 0.9812\n",
      "Epoch 39/50\n",
      "16s - loss: 0.0420 - acc: 0.9872 - val_loss: 0.0612 - val_acc: 0.9809\n",
      "Epoch 40/50\n",
      "16s - loss: 0.0414 - acc: 0.9870 - val_loss: 0.0547 - val_acc: 0.9843\n",
      "Epoch 41/50\n",
      "16s - loss: 0.0405 - acc: 0.9873 - val_loss: 0.0556 - val_acc: 0.9834\n",
      "Epoch 42/50\n",
      "16s - loss: 0.0397 - acc: 0.9876 - val_loss: 0.0533 - val_acc: 0.9844\n",
      "Epoch 43/50\n",
      "16s - loss: 0.0392 - acc: 0.9876 - val_loss: 0.0548 - val_acc: 0.9839\n",
      "Epoch 44/50\n",
      "16s - loss: 0.0383 - acc: 0.9878 - val_loss: 0.0545 - val_acc: 0.9843\n",
      "Epoch 45/50\n",
      "15s - loss: 0.0382 - acc: 0.9880 - val_loss: 0.0545 - val_acc: 0.9829\n",
      "Epoch 46/50\n",
      "16s - loss: 0.0369 - acc: 0.9881 - val_loss: 0.0585 - val_acc: 0.9835\n",
      "Epoch 47/50\n",
      "15s - loss: 0.0359 - acc: 0.9886 - val_loss: 0.0515 - val_acc: 0.9847\n",
      "Epoch 48/50\n",
      "16s - loss: 0.0359 - acc: 0.9885 - val_loss: 0.0503 - val_acc: 0.9844\n",
      "Epoch 49/50\n",
      "16s - loss: 0.0349 - acc: 0.9892 - val_loss: 0.0567 - val_acc: 0.9835\n",
      "Epoch 50/50\n",
      "15s - loss: 0.0344 - acc: 0.9890 - val_loss: 0.0518 - val_acc: 0.9844\n"
     ]
    }
   ],
   "source": [
    "history = model.fit(x_train, y_train_enc,\n",
    "              batch_size=32, epochs=50,\n",
    "              verbose=2,\n",
    "              validation_split=0.2,\n",
    "              shuffle=True)"
   ]
  },
  {
   "cell_type": "code",
   "execution_count": 29,
   "metadata": {},
   "outputs": [
    {
     "data": {
      "image/png": "[encoded data removed]",
      "text/plain": [
       "<matplotlib.figure.Figure at 0x7f9b1f6f9278>"
      ]
     },
     "metadata": {},
     "output_type": "display_data"
    }
   ],
   "source": [
    "plt.plot(history.history['acc'],'r')\n",
    "plt.plot(history.history['val_acc'],'b')\n",
    "plt.ylabel('Accuracy %')\n",
    "plt.xlabel('Training iterations (epochs)')\n",
    "plt.legend(['Training','Testing'], loc='upper left')\n",
    "plt.show()"
   ]
  },
  {
   "cell_type": "markdown",
   "metadata": {},
   "source": [
    "## Evaluer son modèle"
   ]
  },
  {
   "cell_type": "code",
   "execution_count": null,
   "metadata": {},
   "outputs": [],
   "source": [
    "res = model.evaluate(x_test, y_test_enc)\n",
    "print(\"\\n[loss, accuracy] : {}\".format(res))"
   ]
  },
  {
   "cell_type": "code",
   "execution_count": null,
   "metadata": {
    "collapsed": true
   },
   "outputs": [],
   "source": [
    "model.save(\"model_3.h5\")"
   ]
  }
 ],
 "metadata": {
  "kernelspec": {
   "display_name": "Python 3",
   "language": "python",
   "name": "python3"
  },
  "language_info": {
   "codemirror_mode": {
    "name": "ipython",
    "version": 3
   },
   "file_extension": ".py",
   "mimetype": "text/x-python",
   "name": "python",
   "nbconvert_exporter": "python",
   "pygments_lexer": "ipython3",
   "version": "3.5.2"
  },
  "widgets": {
   "state": {},
   "version": "1.1.2"
  }
 },
 "nbformat": 4,
 "nbformat_minor": 2
}
